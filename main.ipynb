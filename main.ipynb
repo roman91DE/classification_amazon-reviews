{
 "cells": [
  {
   "cell_type": "code",
   "execution_count": 36,
   "metadata": {},
   "outputs": [
    {
     "name": "stderr",
     "output_type": "stream",
     "text": [
      "bash: line 11: \n",
      "Download the dataset if it's not already there\n",
      "\n",
      "Dataset: Amazon Reviews for Home and Kitchen Appliances\n",
      "\n",
      "Paper: Justifying recommendations using distantly-labeled reviews and fined-grained aspects\n",
      "Jianmo Ni, Jiacheng Li, Julian McAuley\n",
      "Empirical Methods in Natural Language Processing (EMNLP), 2019\n",
      "\n",
      ": command not found\n"
     ]
    },
    {
     "name": "stdout",
     "output_type": "stream",
     "text": [
      "Dataset already downloaded.\n"
     ]
    }
   ],
   "source": [
    "%%bash\n",
    "\n",
    "\"\"\"\n",
    "Download the dataset if it's not already there\n",
    "\n",
    "Dataset: Amazon Reviews for Home and Kitchen Appliances\n",
    "\n",
    "Paper: Justifying recommendations using distantly-labeled reviews and fined-grained aspects\n",
    "Jianmo Ni, Jiacheng Li, Julian McAuley\n",
    "Empirical Methods in Natural Language Processing (EMNLP), 2019\n",
    "\n",
    "\"\"\"\n",
    "\n",
    "\n",
    "if [ ! -f \"./Appliances.json\" ]; then\n",
    "    curl \"https://datarepo.eng.ucsd.edu/mcauley_group/data/amazon_v2/categoryFiles/Appliances.json.gz\" | gunzip > Appliances.json\n",
    "else\n",
    "    echo \"Dataset already downloaded.\"\n",
    "fi\n"
   ]
  },
  {
   "cell_type": "code",
   "execution_count": 37,
   "metadata": {},
   "outputs": [],
   "source": [
    "%matplotlib inline\n",
    "\n",
    "import numpy as np\n",
    "import pandas as pd\n",
    "import matplotlib.pyplot as plt\n",
    "\n",
    "\n",
    "from sklearn.model_selection import train_test_split"
   ]
  },
  {
   "cell_type": "code",
   "execution_count": 38,
   "metadata": {},
   "outputs": [],
   "source": [
    "df_raw = pd.read_json(\"Appliances.json\", lines=True)"
   ]
  },
  {
   "cell_type": "code",
   "execution_count": 39,
   "metadata": {},
   "outputs": [
    {
     "name": "stdout",
     "output_type": "stream",
     "text": [
      "Memory usage before Data Cleaning: 430.16 MB\n"
     ]
    }
   ],
   "source": [
    "memuse = df_raw.memory_usage(deep=True).sum() / 1024**2\n",
    "print(f\"Memory usage before Data Cleaning: {memuse:.2f} MB\")"
   ]
  },
  {
   "cell_type": "code",
   "execution_count": 40,
   "metadata": {},
   "outputs": [],
   "source": [
    "# Data Cleaning\n",
    "\n",
    "# drop columns that are not needed and drop rows with missing values\n",
    "df = df_raw.drop(['verified', 'reviewTime', 'reviewerID', 'asin', 'style', 'reviewerName', 'unixReviewTime', 'vote', 'image'], axis=1).dropna()\n",
    "\n",
    "# convert the text columns to string\n",
    "df[\"reviewText\"] = df[\"reviewText\"].astype(\"string\")\n",
    "df[\"summary\"] = df[\"summary\"].astype(\"string\")\n",
    "\n",
    "# convert the overall column [1-5] to uint8 \n",
    "df[\"overall\"] = df[\"overall\"].astype(\"uint8\")"
   ]
  },
  {
   "cell_type": "code",
   "execution_count": 41,
   "metadata": {},
   "outputs": [
    {
     "name": "stdout",
     "output_type": "stream",
     "text": [
      "Memory usage after Data Cleaning: 192.62 MB\n"
     ]
    }
   ],
   "source": [
    "memuse_clean = df.memory_usage(deep=True).sum() / 1024**2\n",
    "print(f\"Memory usage after Data Cleaning: {memuse_clean:.2f} MB\")"
   ]
  },
  {
   "cell_type": "code",
   "execution_count": 42,
   "metadata": {},
   "outputs": [
    {
     "data": {
      "text/html": [
       "<div>\n",
       "<style scoped>\n",
       "    .dataframe tbody tr th:only-of-type {\n",
       "        vertical-align: middle;\n",
       "    }\n",
       "\n",
       "    .dataframe tbody tr th {\n",
       "        vertical-align: top;\n",
       "    }\n",
       "\n",
       "    .dataframe thead th {\n",
       "        text-align: right;\n",
       "    }\n",
       "</style>\n",
       "<table border=\"1\" class=\"dataframe\">\n",
       "  <thead>\n",
       "    <tr style=\"text-align: right;\">\n",
       "      <th></th>\n",
       "      <th>overall</th>\n",
       "      <th>reviewText</th>\n",
       "      <th>summary</th>\n",
       "    </tr>\n",
       "  </thead>\n",
       "  <tbody>\n",
       "    <tr>\n",
       "      <th>0</th>\n",
       "      <td>5</td>\n",
       "      <td>Not one thing in this book seemed an obvious o...</td>\n",
       "      <td>Clear on what leads to innovation</td>\n",
       "    </tr>\n",
       "    <tr>\n",
       "      <th>1</th>\n",
       "      <td>5</td>\n",
       "      <td>I have enjoyed Dr. Alan Gregerman's weekly blo...</td>\n",
       "      <td>Becoming more innovative by opening yourself t...</td>\n",
       "    </tr>\n",
       "    <tr>\n",
       "      <th>2</th>\n",
       "      <td>5</td>\n",
       "      <td>Alan Gregerman believes that innovation comes ...</td>\n",
       "      <td>The World from Different Perspectives</td>\n",
       "    </tr>\n",
       "    <tr>\n",
       "      <th>3</th>\n",
       "      <td>5</td>\n",
       "      <td>Alan Gregerman is a smart, funny, entertaining...</td>\n",
       "      <td>Strangers are Your New Best Friends</td>\n",
       "    </tr>\n",
       "    <tr>\n",
       "      <th>4</th>\n",
       "      <td>5</td>\n",
       "      <td>As I began to read this book, I was again remi...</td>\n",
       "      <td>How and why it is imperative to engage, learn ...</td>\n",
       "    </tr>\n",
       "  </tbody>\n",
       "</table>\n",
       "</div>"
      ],
      "text/plain": [
       "   overall                                         reviewText  \\\n",
       "0        5  Not one thing in this book seemed an obvious o...   \n",
       "1        5  I have enjoyed Dr. Alan Gregerman's weekly blo...   \n",
       "2        5  Alan Gregerman believes that innovation comes ...   \n",
       "3        5  Alan Gregerman is a smart, funny, entertaining...   \n",
       "4        5  As I began to read this book, I was again remi...   \n",
       "\n",
       "                                             summary  \n",
       "0                  Clear on what leads to innovation  \n",
       "1  Becoming more innovative by opening yourself t...  \n",
       "2              The World from Different Perspectives  \n",
       "3                Strangers are Your New Best Friends  \n",
       "4  How and why it is imperative to engage, learn ...  "
      ]
     },
     "execution_count": 42,
     "metadata": {},
     "output_type": "execute_result"
    }
   ],
   "source": [
    "df.head()"
   ]
  },
  {
   "cell_type": "code",
   "execution_count": 43,
   "metadata": {},
   "outputs": [
    {
     "name": "stderr",
     "output_type": "stream",
     "text": [
      "/var/folders/3g/xl748sgd3ljgqvnxwbdt3vn80000gn/T/ipykernel_5488/3033069696.py:2: FutureWarning: `sort_columns` is deprecated and will be removed in a future version.\n",
      "  df[\"overall\"].value_counts().plot(kind=\"bar\", title=\"Distribution of Overall Rating\", xlabel=\"Rating\", ylabel=\"Count\", rot=0, sort_columns=True)\n"
     ]
    },
    {
     "data": {
      "text/plain": [
       "<Axes: title={'center': 'Distribution of Overall Rating'}, xlabel='Rating', ylabel='Count'>"
      ]
     },
     "execution_count": 43,
     "metadata": {},
     "output_type": "execute_result"
    },
    {
     "data": {
      "image/png": "[encoded data removed]",
      "text/plain": [
       "<Figure size 640x480 with 1 Axes>"
      ]
     },
     "metadata": {},
     "output_type": "display_data"
    }
   ],
   "source": [
    "# plot the distribution of the overall rating, we can see that the dataset is imbalanced\n",
    "df[\"overall\"].value_counts().plot(kind=\"bar\", title=\"Distribution of Overall Rating\", xlabel=\"Rating\", ylabel=\"Count\", rot=0, sort_columns=True)"
   ]
  },
  {
   "cell_type": "code",
   "execution_count": 44,
   "metadata": {},
   "outputs": [
    {
     "name": "stderr",
     "output_type": "stream",
     "text": [
      "/var/folders/3g/xl748sgd3ljgqvnxwbdt3vn80000gn/T/ipykernel_5488/1781214441.py:6: FutureWarning: `sort_columns` is deprecated and will be removed in a future version.\n",
      "  rdf[\"overall\"].value_counts().plot(kind=\"bar\", title=\"Distribution of Overall Rating\", xlabel=\"Rating\", ylabel=\"Count\", rot=0, sort_columns=True)\n"
     ]
    },
    {
     "data": {
      "text/plain": [
       "<Axes: title={'center': 'Distribution of Overall Rating'}, xlabel='Rating', ylabel='Count'>"
      ]
     },
     "execution_count": 44,
     "metadata": {},
     "output_type": "execute_result"
    },
    {
     "data": {
      "image/png": "[encoded data removed]",
      "text/plain": [
       "<Figure size 640x480 with 1 Axes>"
      ]
     },
     "metadata": {},
     "output_type": "display_data"
    }
   ],
   "source": [
    "# create a balanced dataset by sampling 5000 reviews from each rating\n",
    "\n",
    "rdf = df.groupby(\"overall\").apply(lambda x: x.sample(n=5000, random_state=42)).reset_index(drop=True)\n",
    "\n",
    "# plot the distribution of the overall rating, we can see that the dataset is balanced\n",
    "rdf[\"overall\"].value_counts().plot(kind=\"bar\", title=\"Distribution of Overall Rating\", xlabel=\"Rating\", ylabel=\"Count\", rot=0, sort_columns=True)\n"
   ]
  },
  {
   "cell_type": "code",
   "execution_count": 45,
   "metadata": {},
   "outputs": [
    {
     "name": "stderr",
     "output_type": "stream",
     "text": [
      "[nltk_data] Downloading package punkt to /Users/rmn/nltk_data...\n",
      "[nltk_data]   Package punkt is already up-to-date!\n",
      "[nltk_data] Downloading package stopwords to /Users/rmn/nltk_data...\n",
      "[nltk_data]   Package stopwords is already up-to-date!\n",
      "[nltk_data] Downloading package wordnet to /Users/rmn/nltk_data...\n",
      "[nltk_data]   Package wordnet is already up-to-date!\n",
      "[nltk_data] Downloading package omw-1.4 to /Users/rmn/nltk_data...\n",
      "[nltk_data]   Package omw-1.4 is already up-to-date!\n"
     ]
    }
   ],
   "source": [
    "import nltk\n",
    "from nltk.tokenize import word_tokenize\n",
    "from nltk.corpus import stopwords\n",
    "from nltk.stem import WordNetLemmatizer\n",
    "\n",
    "# download the nltk packages\n",
    "nltk.download('punkt')\n",
    "nltk.download('stopwords')\n",
    "nltk.download('wordnet')\n",
    "nltk.download('omw-1.4')\n",
    "\n",
    "# create a lemmatizer\n",
    "lemmatizer = WordNetLemmatizer()\n",
    "\n",
    "# create a list of stop words\n",
    "stop_words = stopwords.words('english')\n",
    "\n",
    "for str_col in [\"reviewText\", \"summary\"]:\n",
    "\n",
    "  # create a list of texts\n",
    "  texts = rdf[str_col].tolist()\n",
    "\n",
    "  # tokenize the texts\n",
    "  tokenized_texts = [word_tokenize(text) for text in texts]\n",
    "\n",
    "  # remove stop words and lemmatize the tokens\n",
    "\n",
    "  lemmatized_texts = [[lemmatizer.lemmatize(token.lower()) for token in text if token.lower() not in stop_words] for text in tokenized_texts]\n",
    "\n",
    "  # join the tokens back to text\n",
    "  joined_texts = [\" \".join(text) for text in lemmatized_texts]\n",
    "\n",
    "  # create a new column for the cleaned text\n",
    "  rdf[f\"{str_col}_cleaned\"] = joined_texts"
   ]
  },
  {
   "cell_type": "code",
   "execution_count": 46,
   "metadata": {},
   "outputs": [
    {
     "data": {
      "text/html": [
       "<div>\n",
       "<style scoped>\n",
       "    .dataframe tbody tr th:only-of-type {\n",
       "        vertical-align: middle;\n",
       "    }\n",
       "\n",
       "    .dataframe tbody tr th {\n",
       "        vertical-align: top;\n",
       "    }\n",
       "\n",
       "    .dataframe thead th {\n",
       "        text-align: right;\n",
       "    }\n",
       "</style>\n",
       "<table border=\"1\" class=\"dataframe\">\n",
       "  <thead>\n",
       "    <tr style=\"text-align: right;\">\n",
       "      <th></th>\n",
       "      <th>overall</th>\n",
       "      <th>reviewText</th>\n",
       "      <th>summary</th>\n",
       "      <th>reviewText_cleaned</th>\n",
       "      <th>summary_cleaned</th>\n",
       "    </tr>\n",
       "  </thead>\n",
       "  <tbody>\n",
       "    <tr>\n",
       "      <th>0</th>\n",
       "      <td>1</td>\n",
       "      <td>This software is buggy.  I can't understand wh...</td>\n",
       "      <td>This software is buggy. I can't understand why...</td>\n",
       "      <td>software buggy . ca n't understand need compli...</td>\n",
       "      <td>software buggy . ca n't understand ...</td>\n",
       "    </tr>\n",
       "  </tbody>\n",
       "</table>\n",
       "</div>"
      ],
      "text/plain": [
       "   overall                                         reviewText  \\\n",
       "0        1  This software is buggy.  I can't understand wh...   \n",
       "\n",
       "                                             summary  \\\n",
       "0  This software is buggy. I can't understand why...   \n",
       "\n",
       "                                  reviewText_cleaned  \\\n",
       "0  software buggy . ca n't understand need compli...   \n",
       "\n",
       "                          summary_cleaned  \n",
       "0  software buggy . ca n't understand ...  "
      ]
     },
     "execution_count": 46,
     "metadata": {},
     "output_type": "execute_result"
    }
   ],
   "source": [
    "rdf.head(1)"
   ]
  },
  {
   "cell_type": "code",
   "execution_count": null,
   "metadata": {},
   "outputs": [],
   "source": []
  }
 ],
 "metadata": {
  "kernelspec": {
   "display_name": "DataScience",
   "language": "python",
   "name": "python3"
  },
  "language_info": {
   "codemirror_mode": {
    "name": "ipython",
    "version": 3
   },
   "file_extension": ".py",
   "mimetype": "text/x-python",
   "name": "python",
   "nbconvert_exporter": "python",
   "pygments_lexer": "ipython3",
   "version": "3.11.2"
  },
  "orig_nbformat": 4
 },
 "nbformat": 4,
 "nbformat_minor": 2
}
